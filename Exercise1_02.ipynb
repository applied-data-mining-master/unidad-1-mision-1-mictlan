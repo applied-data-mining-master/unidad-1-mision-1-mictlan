{
 "cells": [
  {
   "cell_type": "markdown",
   "metadata": {},
   "source": [
    "# Exercise 1.02: Creating an AI with Random Behavior for the Tic-Tac-Toe Game\n",
    "\n",
    "In this exercise, we'll create a framework for the tic-tac-toe game for experimentation. We will be modeling the game on the assumption that the AI player always starts the game. You will create a function that prints your internal representation, allows your opponent to enter a move randomly, and determines whether a player has won."
   ]
  },
  {
   "cell_type": "markdown",
   "metadata": {},
   "source": [
    "1.- We will import the choice function from the random library:"
   ]
  },
  {
   "cell_type": "code",
   "execution_count": 2,
   "metadata": {},
   "outputs": [
    {
     "data": {
      "text/plain": [
       "['c']"
      ]
     },
     "execution_count": 2,
     "metadata": {},
     "output_type": "execute_result"
    }
   ],
   "source": [
    "# Importando la función choice de la libreria random\n",
    "from random import choice\n",
    "choice([[\"a\"],[\"b\"],[\"c\"]])"
   ]
  },
  {
   "cell_type": "markdown",
   "metadata": {},
   "source": [
    "2.- Model the nine cells in a simple string.\n",
    "\n",
    "  > **Note**  \n",
    "  > A nine-character long Python string stores these cells in the following order: `123456789`. Let's determine the index triples that must contain matching signs so that a player wins the game"
   ]
  },
  {
   "cell_type": "code",
   "execution_count": 3,
   "metadata": {},
   "outputs": [
    {
     "data": {
      "text/plain": [
       "[[1, 2, 3],\n",
       " [4, 5, 6],\n",
       " [7, 8, 9],\n",
       " [1, 4, 7],\n",
       " [2, 5, 8],\n",
       " [3, 6, 9],\n",
       " [1, 5, 9],\n",
       " [3, 5, 7]]"
      ]
     },
     "execution_count": 3,
     "metadata": {},
     "output_type": "execute_result"
    }
   ],
   "source": [
    "# Definiendo las posibles combinaciones ganadoras dentro del juego\n",
    "combo_indices = [[1,2,3],[4,5,6],[7,8,9],[1,4,7],[2,5,8],[3,6,9],[1,5,9],[3,5,7]]\n",
    "combo_indices # Mostrando la matriz"
   ]
  },
  {
   "cell_type": "markdown",
   "metadata": {},
   "source": [
    "3.- Define the sign constants for empty cells, the AI, and the opponent player"
   ]
  },
  {
   "cell_type": "code",
   "execution_count": 4,
   "metadata": {},
   "outputs": [],
   "source": [
    "# Definiendo los símbolos del Tablero, la AI y del Oponente\n",
    "emptyC = '#'\n",
    "AI = 'X'\n",
    "OP = 'O'"
   ]
  },
  {
   "cell_type": "markdown",
   "metadata": {},
   "source": [
    "4.- Create a function that prints a board.\n",
    "\n",
    "  > add an empty row before and after the board so that we can easily read the game state"
   ]
  },
  {
   "cell_type": "code",
   "execution_count": 5,
   "metadata": {},
   "outputs": [
    {
     "name": "stdout",
     "output_type": "stream",
     "text": [
      " \n",
      "# # #\n",
      "# # #\n",
      "# # #\n",
      " \n"
     ]
    }
   ],
   "source": [
    "# Declarando una función para mostrar la tabla\n",
    "\n",
    "# La función .join modifica una cadena con el simbolo o valor ingresado \n",
    "# y concatena los valores poniendo ese signo de por medio\n",
    "\n",
    "# variable[0:4:1] funciona como llamado de valores o substring en algunos lenguajes\n",
    "# El 0 representa la posición inicial de donde se tomarán valores\n",
    "# El 4 la posición final representando el valor de n-1\n",
    "# El 1 es el número de paso con el que avanzará para obtener los valores\n",
    "def Tablero(tabla):\n",
    "    print(\" \")\n",
    "    print(' '.join(tabla[0:3:1]))\n",
    "    print(' '.join(tabla[3:6:1]))\n",
    "    print(' '.join(tabla[6:9:1]))\n",
    "    print(\" \")\n",
    "\n",
    "board = emptyC * 9 # Declarando una cadena de 9 valores \"vacíos\" \n",
    "Tablero(board) # Mandando llamar la función de imprimir valores\n",
    "    "
   ]
  },
  {
   "cell_type": "markdown",
   "metadata": {},
   "source": [
    "5.- Describe a move of the human player.\n",
    "\n",
    "  > **Note**  \n",
    "  > The input arguments are the boards, the row numbers from $1$ to $3$, and the column numbers from $1$ to $3$. The return value of this function is a board containing the new move"
   ]
  },
  {
   "cell_type": "code",
   "execution_count": 6,
   "metadata": {},
   "outputs": [
    {
     "name": "stdout",
     "output_type": "stream",
     "text": [
      "Ingresa Fila: 1\n",
      "Ingresa Columna: 1\n",
      " \n",
      "O # #\n",
      "# # #\n",
      "# # #\n",
      " \n"
     ]
    }
   ],
   "source": [
    "def movimientoPersona(tabla, fila, columna):\n",
    "    # Se resta 1 fila y 1 columna para validar el tamaño de vector tomado de 0 a 2\n",
    "    \n",
    "    # Para encontrar la posición dentro de un vector usaremos la regla de movimiento en un plano cartesiano\n",
    "    # aplicado en una matriz, moviendonos en el eje de las x (filas) y después en el eje de las y (columnas)\n",
    "    # Mediante esta formula se encuentra la posición dentro de un vector. Ej. F = 2, C = 3 \n",
    "    \n",
    "    # ((2 - 1 = 1 (eje x)) * 3) = 3 <- se realiza una multiplicación * 3 validando las posiciones de las filas \n",
    "    # 3 - 1 = 2 (eje y)\n",
    "    # Se suman resultados y es la posición dentro del vector: 3 + 2 = 5\n",
    "    \n",
    "    # vector = ( 0,  1,  2,  3,  4,  >>(5)<<,  6,  7,  8)\n",
    "    # vector = ('#','#','#','#','#'   ,'#'  ,'#' ,'#' ,'#')\n",
    "    \n",
    "    # Matriz: 0 1 2 | # # #\n",
    "    #         3 4 5 | # # O\n",
    "    #         6 7 8 | # # #\n",
    "    movimientoP = (3 * (fila - 1)) + (columna - 1) \n",
    "    \n",
    "    # Se valida que el lugar seleccionado este vacío y de ser así se modifica\n",
    "    if (tabla[movimientoP] == emptyC):\n",
    "        # Para modificar un valor en la cadena, extraemos los valores previos a la posición donde esta nuestra opción \n",
    "        # concatenamos el símbolo del usuario o persona y finalmente juntamos los valores restantes del punto de opción hasta \n",
    "        # el final de la cadena\n",
    "        tabla = tabla[0:movimientoP] + OP + tabla[movimientoP+1:9] \n",
    "        \n",
    "        # Se imprime el tablero en pantalla\n",
    "        Tablero(tabla)\n",
    "    #Se regresa el tablero con la opción elegida \n",
    "    return tabla\n",
    "\n",
    "fila = int(input('Ingresa Fila: '))\n",
    "columna = int(input('Ingresa Columna: '))\n",
    "board = movimientoPersona(board,fila, columna)"
   ]
  },
  {
   "cell_type": "markdown",
   "metadata": {},
   "source": [
    "6.- Define a random move on the part of the AI player. Generate all possible moves defining the  `all_moves_from_board` function, and then select a random move from the list of possible moves\n",
    "\n",
    "  >**Hints**  \n",
    "  >Defined a function called all_moves_from_board that goes through all the indexes on the board and checks whether they are empty (`v == EMPTY_SIGN`). If that's the case, this means that the move can be played and that the index has been added to a list of moves (`move_list`). Finally, we defined the `ai_move` function in order to randomly let the AI choose an index that is equal to a move in the game."
   ]
  },
  {
   "cell_type": "code",
   "execution_count": 7,
   "metadata": {},
   "outputs": [
    {
     "name": "stdout",
     "output_type": "stream",
     "text": [
      " \n",
      "O # #\n",
      "X # #\n",
      "# # #\n",
      " \n"
     ]
    }
   ],
   "source": [
    "# Declarando una función para simular el movimiento de la AI\n",
    "def all_moves_from_board(board):\n",
    "    contador = 0          # Se crea un contador para indexar todos aquellos valores vacios donde la AI puede escoger\n",
    "    opciones = []         # Se crea un vector para guardar las opciones de movimiento\n",
    "    for v in board:       # Se recorre el tablero\n",
    "        if (v == emptyC): # Se revisan los valores que se encuentren vacios \n",
    "            opciones.append(contador)     # En caso de ser vacios se anexan al vector de opciones disponibles\n",
    "        contador+=1                            # Se aumenta el contador para recorrer el indice\n",
    "    return (opciones)                          # Se regresa un vector con las opciones de movimiento disponibles\n",
    "            \n",
    "# Se declara una función para simular la opción de la AI\n",
    "def ai_move(board):\n",
    "    # Después de validar las opciones posibles, la AI realiza de manera aleatoria su siguiente movimiento\n",
    "    movimientoAI = int(choice(all_moves_from_board(board)))\n",
    "    # Se agrega el símbolo de la AI al tablero en la posición elegida\n",
    "    board = board[0:movimientoAI] + AI + board[movimientoAI+1:9]   \n",
    "        \n",
    "    # Se regresa el tablero final después del movimiento realizado\n",
    "    return board \n",
    "    \n",
    "board = ai_move(board)\n",
    "Tablero(board)"
   ]
  },
  {
   "cell_type": "markdown",
   "metadata": {},
   "source": [
    "7.- Determine whether a player has won the game.\n",
    "\n",
    "  > **Hints**  \n",
    "  > Define the `game_won_by` function, which checks whether the board contains a combo of three identical indexes from the `combo_indices` variable to end the game."
   ]
  },
  {
   "cell_type": "code",
   "execution_count": 8,
   "metadata": {},
   "outputs": [],
   "source": [
    "def game_won_by(tablero):\n",
    "    for item in combo_indices:\n",
    "        if tablero[item[0]-1] == tablero[item[1]-1] == tablero[item[2]-1] == OP:\n",
    "            print('EL JUGADOR A GANADO')\n",
    "            return True\n",
    "        elif tablero[item[0]-1] == tablero[item[1]-1] == tablero[item[2]-1] == AI:\n",
    "            print('LA MAQUINA A GANADO')\n",
    "            return True\n",
    "    return False\n"
   ]
  },
  {
   "cell_type": "markdown",
   "metadata": {},
   "source": [
    "8.- Finally, create a game loop so that we can test the interaction between the computer player and the human player.\n",
    "\n",
    "  > **Hints**  \n",
    "  >  * Conduct a brute-force search.\n",
    "  >  * Defined the function, which can be broken down into various parts. The first part is to initialize the board and fill it with empty signs (`board = EMPTY_SIGN * 9`). Then, we create a counter of the empty cell, which will help us to create a loop and determine the AI's turn.The second part is to create a function for the player and the AI engine to play the game against each other. As soon as one player makes a move, the `empty_cell_count` variable will decrease by $1$. The loop will keep going until either the `game_won_by` function finds a winner or there are no more possible moves on the board."
   ]
  },
  {
   "cell_type": "code",
   "execution_count": 9,
   "metadata": {},
   "outputs": [],
   "source": [
    "def game_loop():\n",
    "    board = emptyC * 9\n",
    "    empty_cell_count = 5\n",
    "    winner = False\n",
    "    while (empty_cell_count >= 0 and (not (winner))):\n",
    "        Tablero(board)\n",
    "        if (empty_cell_count > 0):\n",
    "            fila = int(input('Elija la fila.'))\n",
    "            columna = int(input('Elija la columna'))\n",
    "            board = movimientoPersona(board,fila,columna)\n",
    "            if (empty_cell_count-1 > 0 and( not (winner))):\n",
    "                board = ai_move(board)\n",
    "            winner = game_won_by(board)\n",
    "        if(winner):\n",
    "            Tablero(board)\n",
    "        empty_cell_count = empty_cell_count-1\n",
    "    print(\"El juego termino\")"
   ]
  },
  {
   "cell_type": "markdown",
   "metadata": {},
   "source": [
    "9.- Use the `game_loop` function to run the game"
   ]
  },
  {
   "cell_type": "code",
   "execution_count": 10,
   "metadata": {},
   "outputs": [
    {
     "name": "stdout",
     "output_type": "stream",
     "text": [
      " \n",
      "# # #\n",
      "# # #\n",
      "# # #\n",
      " \n",
      "Elija la fila.1\n",
      "Elija la columna1\n",
      " \n",
      "O # #\n",
      "# # #\n",
      "# # #\n",
      " \n",
      " \n",
      "O # X\n",
      "# # #\n",
      "# # #\n",
      " \n",
      "Elija la fila.2\n",
      "Elija la columna1\n",
      " \n",
      "O # X\n",
      "O # #\n",
      "# # #\n",
      " \n",
      " \n",
      "O # X\n",
      "O # #\n",
      "# # X\n",
      " \n",
      "Elija la fila.3\n",
      "Elija la columna1\n",
      " \n",
      "O # X\n",
      "O # #\n",
      "O # X\n",
      " \n",
      "EL JUGADOR A GANADO\n",
      " \n",
      "O # X\n",
      "O X #\n",
      "O # X\n",
      " \n",
      "El juego termino\n"
     ]
    }
   ],
   "source": [
    "game_loop()"
   ]
  },
  {
   "cell_type": "code",
   "execution_count": null,
   "metadata": {},
   "outputs": [],
   "source": []
  },
  {
   "cell_type": "code",
   "execution_count": null,
   "metadata": {},
   "outputs": [],
   "source": []
  },
  {
   "cell_type": "code",
   "execution_count": null,
   "metadata": {},
   "outputs": [],
   "source": []
  },
  {
   "cell_type": "code",
   "execution_count": null,
   "metadata": {},
   "outputs": [],
   "source": []
  }
 ],
 "metadata": {
  "kernelspec": {
   "display_name": "Python 3",
   "language": "python",
   "name": "python3"
  },
  "language_info": {
   "codemirror_mode": {
    "name": "ipython",
    "version": 3
   },
   "file_extension": ".py",
   "mimetype": "text/x-python",
   "name": "python",
   "nbconvert_exporter": "python",
   "pygments_lexer": "ipython3",
   "version": "3.8.5"
  }
 },
 "nbformat": 4,
 "nbformat_minor": 4
}
