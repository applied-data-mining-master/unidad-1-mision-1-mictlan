{
 "cells": [
  {
   "cell_type": "markdown",
   "metadata": {},
   "source": [
    "# Exercise 1.01: Matrix Operations Using NumPy\n",
    "\n",
    "We will be using Jupyter Notebook and the following matrix to solve this exercise.\n",
    "\n",
    "We will calculate the square of the matrix, which is determinant of the matrix and the transpose of the matrix shown in the following figure, using NumPy:\n",
    "\n",
    "![Figure 1.2](img/fig1_02.jpg)"
   ]
  },
  {
   "cell_type": "markdown",
   "metadata": {},
   "source": [
    "1.- Import the `numpy` library as `np`"
   ]
  },
  {
   "cell_type": "code",
   "execution_count": 1,
   "metadata": {},
   "outputs": [],
   "source": [
    "# Importando la libreria \"numpy\" con el prefijo \"np\"\n",
    "import numpy as np"
   ]
  },
  {
   "cell_type": "markdown",
   "metadata": {},
   "source": [
    "2.- Create a two-dimensional array called `A` for storing the $[[1,2,3],[4,5,6],[7,8,9]]$ matrix using `np.mat`, then show de variable A\n",
    "\n",
    "Output:\n",
    "\n",
    "```\n",
    "matrix([[1, 2, 3],\n",
    "        [4, 5, 6],\n",
    "        [7, 8, 9]])\n",
    "```\n",
    "\n",
    "  > If you have created an np.array instead of np.mat, the solution for the array multiplication will be incorrect."
   ]
  },
  {
   "cell_type": "code",
   "execution_count": 2,
   "metadata": {},
   "outputs": [
    {
     "data": {
      "text/plain": [
       "matrix([[1, 2, 3],\n",
       "        [4, 5, 6],\n",
       "        [7, 8, 9]])"
      ]
     },
     "execution_count": 2,
     "metadata": {},
     "output_type": "execute_result"
    }
   ],
   "source": [
    "# Creando una matriz de 3x3 con los valores de 1 al 9 usando la función \"mat\" de la libreria de \"numpy\" \n",
    "A = np.mat([[1,2,3],[4,5,6],[7,8,9]])\n",
    "A # Mostrando en pantalla"
   ]
  },
  {
   "cell_type": "markdown",
   "metadata": {},
   "source": [
    "3.- Perform matrix multiplication using the asterisk and save the result in a variable called `matmult`"
   ]
  },
  {
   "cell_type": "code",
   "execution_count": 3,
   "metadata": {},
   "outputs": [
    {
     "data": {
      "text/plain": [
       "matrix([[ 30,  36,  42],\n",
       "        [ 66,  81,  96],\n",
       "        [102, 126, 150]])"
      ]
     },
     "execution_count": 3,
     "metadata": {},
     "output_type": "execute_result"
    }
   ],
   "source": [
    "# Realizando la multiplicación por medio de asterisco de matrices y almacenando su valore en la variable \"matmult\"\n",
    "matmult = A * A\n",
    "matmult # Mostrando en pantalla"
   ]
  },
  {
   "cell_type": "markdown",
   "metadata": {},
   "source": [
    "4.- Manually calculate the square of A by performing matrix multiplication. Show the result.\n",
    "\n",
    "Output:\n",
    "\n",
    "```\n",
    "30\n",
    "```"
   ]
  },
  {
   "cell_type": "code",
   "execution_count": 4,
   "metadata": {},
   "outputs": [
    {
     "data": {
      "text/plain": [
       "30"
      ]
     },
     "execution_count": 4,
     "metadata": {},
     "output_type": "execute_result"
    }
   ],
   "source": [
    "# De manera manual calculando el cuadrado de la matriz (A*A) \n",
    "# multiplicando la primera fila [1,2,3], por la primera columna [1,4,7]\n",
    "1*1 + 2*4 + 3*7"
   ]
  },
  {
   "cell_type": "markdown",
   "metadata": {},
   "source": [
    "5.- Use `np.linalg.det` to calculate the determinant of the matrix and save the result in a variable called `det`.\n",
    "\n",
    "Output:\n",
    "\n",
    "```\n",
    "0.0\n",
    "```"
   ]
  },
  {
   "cell_type": "code",
   "execution_count": 5,
   "metadata": {},
   "outputs": [
    {
     "data": {
      "text/plain": [
       "6.66133814775094e-16"
      ]
     },
     "execution_count": 5,
     "metadata": {},
     "output_type": "execute_result"
    }
   ],
   "source": [
    "# Sacando la determinante de la matriz usando la función \"det\"\n",
    "# de la libreria \"numpy\"\n",
    "det = np.linalg.det(A)\n",
    "det # Mostrando en pantalla\n",
    "# NOTA: Por alguna razón marca un valor no correcto, a mano la determinante de la matriz es 0 (cero)"
   ]
  },
  {
   "cell_type": "markdown",
   "metadata": {},
   "source": [
    "6.- Use `np.matrix.transpose` to get the transpose of the matrix and save the result in a variable called `transpose`\n",
    "\n",
    "Output:\n",
    "\n",
    "```\n",
    "matrix([[1, 4, 7],\n",
    "        [2, 5, 8],\n",
    "        [3, 6, 9]])\n",
    "```"
   ]
  },
  {
   "cell_type": "code",
   "execution_count": null,
   "metadata": {},
   "outputs": [],
   "source": [
    "# Sacando la transpuesta de la matriz utilizando la funcion \"matrix.transpose\" de la libreria \"numpy\"\n",
    "transpose = np.matrix.transpose(A)\n",
    "transpose # Mostrando en pantalla"
   ]
  },
  {
   "cell_type": "markdown",
   "metadata": {},
   "source": [
    "By completing this exercise, you have seen that NumPy comes with many useful features for vectors, matrices, and other mathematical structures.\n",
    "\n",
    "In the upcoming section, we will be implementing AI in an interesting tic-tac-toe game using Python."
   ]
  },
  {
   "cell_type": "code",
   "execution_count": null,
   "metadata": {},
   "outputs": [],
   "source": []
  }
 ],
 "metadata": {
  "kernelspec": {
   "display_name": "Python 3",
   "language": "python",
   "name": "python3"
  },
  "language_info": {
   "codemirror_mode": {
    "name": "ipython",
    "version": 3
   },
   "file_extension": ".py",
   "mimetype": "text/x-python",
   "name": "python",
   "nbconvert_exporter": "python",
   "pygments_lexer": "ipython3",
   "version": "3.8.5"
  }
 },
 "nbformat": 4,
 "nbformat_minor": 4
}
